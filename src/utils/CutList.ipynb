{
 "cells": [
  {
   "cell_type": "markdown",
   "metadata": {},
   "source": [
    "# Cut List\n",
    "\n",
    "1. Split the shed into parts\n",
    "2. Go through parts (.stl) and get dimensions\n",
    "3. Identify dimensional lumber\n",
    "4. Itemize how much lumber is needed by dimension and the appropriate cuts\n",
    "\n",
    "TODO\n",
    "- How to label for assembly\n",
    "- How to produce work/cut plan"
   ]
  },
  {
   "cell_type": "code",
   "execution_count": 5,
   "metadata": {},
   "outputs": [
    {
     "name": "stdout",
     "output_type": "stream",
     "text": [
      "C:\\Users\\akarpus\\Downloads\n"
     ]
    },
    {
     "ename": "FileNotFoundError",
     "evalue": "[WinError 3] The system cannot find the path specified: '/Downloads'",
     "output_type": "error",
     "traceback": [
      "\u001b[1;31m---------------------------------------------------------------------------\u001b[0m",
      "\u001b[1;31mFileNotFoundError\u001b[0m                         Traceback (most recent call last)",
      "Cell \u001b[1;32mIn[5], line 9\u001b[0m\n\u001b[0;32m      5\u001b[0m \u001b[38;5;28mprint\u001b[39m(os\u001b[38;5;241m.\u001b[39mpath\u001b[38;5;241m.\u001b[39mjoin(os\u001b[38;5;241m.\u001b[39mpath\u001b[38;5;241m.\u001b[39mexpanduser(\u001b[38;5;124m'\u001b[39m\u001b[38;5;124m~\u001b[39m\u001b[38;5;124m'\u001b[39m), \u001b[38;5;124m'\u001b[39m\u001b[38;5;124mDownloads\u001b[39m\u001b[38;5;124m'\u001b[39m))\n\u001b[0;32m      7\u001b[0m \u001b[38;5;66;03m# get all files in downloads folder that are .stl files\u001b[39;00m\n\u001b[0;32m      8\u001b[0m \u001b[38;5;66;03m# and get their dimensions\u001b[39;00m\n\u001b[1;32m----> 9\u001b[0m \u001b[38;5;28;01mfor\u001b[39;00m file \u001b[38;5;129;01min\u001b[39;00m \u001b[43mos\u001b[49m\u001b[38;5;241;43m.\u001b[39;49m\u001b[43mlistdir\u001b[49m\u001b[43m(\u001b[49m\u001b[38;5;124;43m\"\u001b[39;49m\u001b[38;5;124;43m/Downloads\u001b[39;49m\u001b[38;5;124;43m\"\u001b[39;49m\u001b[43m)\u001b[49m:\n\u001b[0;32m     10\u001b[0m     \u001b[38;5;28;01mif\u001b[39;00m file\u001b[38;5;241m.\u001b[39mstartswith(\u001b[38;5;124m\"\u001b[39m\u001b[38;5;124mshed\u001b[39m\u001b[38;5;124m\"\u001b[39m) \u001b[38;5;129;01mand\u001b[39;00m file\u001b[38;5;241m.\u001b[39mendswith(\u001b[38;5;124m\"\u001b[39m\u001b[38;5;124m.stl\u001b[39m\u001b[38;5;124m\"\u001b[39m):\n\u001b[0;32m     11\u001b[0m         \u001b[38;5;66;03m#print(file)\u001b[39;00m\n\u001b[0;32m     12\u001b[0m         \u001b[38;5;66;03m# Load the STL file and parse it\u001b[39;00m\n\u001b[0;32m     13\u001b[0m         your_mesh \u001b[38;5;241m=\u001b[39m mesh\u001b[38;5;241m.\u001b[39mMesh\u001b[38;5;241m.\u001b[39mfrom_file(\u001b[38;5;124m\"\u001b[39m\u001b[38;5;124m/Downloads\u001b[39m\u001b[38;5;130;01m\\\\\u001b[39;00m\u001b[38;5;124m\"\u001b[39m \u001b[38;5;241m+\u001b[39m file)\n",
      "\u001b[1;31mFileNotFoundError\u001b[0m: [WinError 3] The system cannot find the path specified: '/Downloads'"
     ]
    }
   ],
   "source": [
    "import numpy\n",
    "import os\n",
    "from stl import mesh\n",
    "\n",
    "# get all files in downloads folder that are .stl files\n",
    "# and get their dimensions\n",
    "dir = os.path.join(os.path.expanduser('~'), 'Downloads')\n",
    "for file in os.listdir(dir):\n",
    "    if file.startswith(\"shed\") and file.endswith(\".stl\"):\n",
    "        #print(file)\n",
    "        # Load the STL file and parse it\n",
    "        your_mesh = mesh.Mesh.from_file(dir + '\\\\' + file)\n",
    "\n",
    "        # Extract all points from the mesh\n",
    "        points = your_mesh.points.reshape(-1, 3)\n",
    "\n",
    "        # Calculate the bounding box\n",
    "        min_x, min_y, min_z = numpy.min(points, axis=0)\n",
    "        max_x, max_y, max_z = numpy.max(points, axis=0)\n",
    "\n",
    "        # Calculate dimensions\n",
    "        length = max_x - min_x\n",
    "        width = max_y - min_y\n",
    "        height = max_z - min_z\n",
    "\n",
    "        # print(width, height, length)\n",
    "\n",
    "        if ((width == 1.5 or height == 1.5 or length == 1.5) and (width == 3.5 or height == 3.5 or length == 3.5)):\n",
    "            print(\"2x4\")\n",
    "            print(max(width, height, length))"
   ]
  },
  {
   "cell_type": "code",
   "execution_count": null,
   "metadata": {},
   "outputs": [],
   "source": []
  }
 ],
 "metadata": {
  "kernelspec": {
   "display_name": "Python 3",
   "language": "python",
   "name": "python3"
  },
  "language_info": {
   "codemirror_mode": {
    "name": "ipython",
    "version": 3
   },
   "file_extension": ".py",
   "mimetype": "text/x-python",
   "name": "python",
   "nbconvert_exporter": "python",
   "pygments_lexer": "ipython3",
   "version": "3.12.4"
  }
 },
 "nbformat": 4,
 "nbformat_minor": 2
}
